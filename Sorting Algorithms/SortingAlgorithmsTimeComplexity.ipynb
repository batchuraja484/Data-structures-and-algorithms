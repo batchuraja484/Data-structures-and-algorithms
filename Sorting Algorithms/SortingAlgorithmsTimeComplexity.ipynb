{
  "nbformat": 4,
  "nbformat_minor": 0,
  "metadata": {
    "colab": {
      "name": "SortingAlgorithmsTimeComplexity.ipynb",
      "provenance": [],
      "authorship_tag": "ABX9TyMhGIi/OFBsAmR4LHuu2shW",
      "include_colab_link": true
    },
    "kernelspec": {
      "name": "python3",
      "display_name": "Python 3"
    }
  },
  "cells": [
    {
      "cell_type": "markdown",
      "metadata": {
        "id": "view-in-github",
        "colab_type": "text"
      },
      "source": [
        "<a href=\"https://colab.research.google.com/github/batchuraja484/Data-structures-and-algorithms/blob/master/Sorting%20Algorithms/SortingAlgorithmsTimeComplexity.ipynb\" target=\"_parent\"><img src=\"https://colab.research.google.com/assets/colab-badge.svg\" alt=\"Open In Colab\"/></a>"
      ]
    },
    {
      "cell_type": "code",
      "metadata": {
        "id": "xfvK2ZkkzdQR",
        "outputId": "a5e0ccfa-f2d9-4b21-beca-841c1774205e",
        "colab": {
          "base_uri": "https://localhost:8080/",
          "height": 34
        }
      },
      "source": [
        "import numpy as np\n",
        "inp=np.random.randint(1,100,size=20)\n",
        "print(inp)"
      ],
      "execution_count": 1,
      "outputs": [
        {
          "output_type": "stream",
          "text": [
            "[56  3 62 80 27  1 83  6 83 55  9  2 93 59 98 10 51  8 26 50]\n"
          ],
          "name": "stdout"
        }
      ]
    }
  ]
}