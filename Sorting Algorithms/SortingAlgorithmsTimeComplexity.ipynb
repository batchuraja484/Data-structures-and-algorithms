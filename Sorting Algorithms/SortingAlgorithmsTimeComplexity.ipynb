{
  "nbformat": 4,
  "nbformat_minor": 0,
  "metadata": {
    "colab": {
      "name": "SortingAlgorithmsTimeComplexity.ipynb",
      "provenance": [],
      "collapsed_sections": [],
      "authorship_tag": "ABX9TyMfOVgpzfmZee5ImDC6NmIX",
      "include_colab_link": true
    },
    "kernelspec": {
      "name": "python3",
      "display_name": "Python 3"
    }
  },
  "cells": [
    {
      "cell_type": "markdown",
      "metadata": {
        "id": "view-in-github",
        "colab_type": "text"
      },
      "source": [
        "<a href=\"https://colab.research.google.com/github/batchuraja484/Data-structures-and-algorithms/blob/master/Sorting%20Algorithms/SortingAlgorithmsTimeComplexity.ipynb\" target=\"_parent\"><img src=\"https://colab.research.google.com/assets/colab-badge.svg\" alt=\"Open In Colab\"/></a>"
      ]
    },
    {
      "cell_type": "code",
      "metadata": {
        "id": "xfvK2ZkkzdQR",
        "outputId": "9e28bb1e-42e5-429c-86bd-ec079ac49b8c",
        "colab": {
          "base_uri": "https://localhost:8080/",
          "height": 35
        }
      },
      "source": [
        "import numpy as np\n",
        "inp=np.random.randint(1,100,size=20)\n",
        "print(inp)"
      ],
      "execution_count": 1,
      "outputs": [
        {
          "output_type": "stream",
          "text": [
            "[19 26 61 92 90  7 99 12 18 11 80 58 66 44 19 43 50 16 97 12]\n"
          ],
          "name": "stdout"
        }
      ]
    },
    {
      "cell_type": "code",
      "metadata": {
        "id": "zv63swk5CiaB"
      },
      "source": [
        "def get_input_data(rng):\n",
        "  inp=np.random.randint(1,1000,size=rng)\n",
        "  lst=list(inp)\n",
        "  return lst\n"
      ],
      "execution_count": 2,
      "outputs": []
    },
    {
      "cell_type": "markdown",
      "metadata": {
        "id": "sW6Scr1SClj7"
      },
      "source": [
        "1. bubble sort\n"
      ]
    },
    {
      "cell_type": "code",
      "metadata": {
        "id": "EYEM_h2cDNuc"
      },
      "source": [
        "def bubble_sort(inp):\n",
        "  for i in range(0, len(inp)):\n",
        "    for j in range(0,len(inp)-1):\n",
        "      if inp[j]>inp[j+1]:\n",
        "        inp[j],inp[j+1]=inp[j+1],inp[j]\n",
        "  return inp"
      ],
      "execution_count": 3,
      "outputs": []
    },
    {
      "cell_type": "code",
      "metadata": {
        "id": "K3EwV70QDrc9",
        "outputId": "46941257-ca55-475d-9e2b-ea8f70ee87f7",
        "colab": {
          "base_uri": "https://localhost:8080/",
          "height": 35
        }
      },
      "source": [
        "testdata=[4,3,2,10,12,1,5,6]\n",
        "result_bubble_sort=bubble_sort(testdata)\n",
        "print(result_bubble_sort)"
      ],
      "execution_count": 4,
      "outputs": [
        {
          "output_type": "stream",
          "text": [
            "[1, 2, 3, 4, 5, 6, 10, 12]\n"
          ],
          "name": "stdout"
        }
      ]
    },
    {
      "cell_type": "markdown",
      "metadata": {
        "id": "bGlser5eClgw"
      },
      "source": [
        "2. Selection Sort"
      ]
    },
    {
      "cell_type": "code",
      "metadata": {
        "id": "RkwSjntwD-fQ"
      },
      "source": [
        "def selection_sort(inp):\n",
        "  for i in range(0,len(inp)):\n",
        "    minindex=i\n",
        "    for j in range(i, len(inp)):\n",
        "      if inp[j]<inp[minindex]:\n",
        "        minindex=j\n",
        "    inp[i],inp[minindex]=inp[minindex],inp[i]\n",
        "  return inp\n"
      ],
      "execution_count": 5,
      "outputs": []
    },
    {
      "cell_type": "code",
      "metadata": {
        "id": "WiCjfOflE2Uw",
        "outputId": "275885cb-b137-4d31-f0d8-721836a3f6db",
        "colab": {
          "base_uri": "https://localhost:8080/",
          "height": 35
        }
      },
      "source": [
        "testdata=[4,3,2,10,12,1,5,6]\n",
        "result_selection_sort=selection_sort(testdata)\n",
        "print(result_selection_sort)\n"
      ],
      "execution_count": 7,
      "outputs": [
        {
          "output_type": "stream",
          "text": [
            "[1, 2, 3, 4, 5, 6, 10, 12]\n"
          ],
          "name": "stdout"
        }
      ]
    },
    {
      "cell_type": "markdown",
      "metadata": {
        "id": "mTUFXcf8CldW"
      },
      "source": [
        "3. Heap Sort"
      ]
    },
    {
      "cell_type": "code",
      "metadata": {
        "id": "Tb6hSXYNFFg7"
      },
      "source": [
        "def heapify(inp,n,i):\n",
        "  if n>1:\n",
        "    l=2*i+1\n",
        "    r=2*i+2\n",
        "    largest=i\n",
        "    if r<n and inp[r]>inp[i]:\n",
        "      largest=r\n",
        "    if l<n and inp[l]>inp[largest]:\n",
        "      largest=l\n",
        "    if i!=largest:\n",
        "      inp[i],inp[largest]=inp[largest],inp[i]\n",
        "      heapify(inp,n,largest)\n",
        "\n",
        "def heap_sort(inp):\n",
        "  n=len(inp)\n",
        "  for i in range(n//2-1,-1,-1):\n",
        "    heapify(inp,n,i)  \n",
        "  for j in range(len(inp)-1,0,-1):    \n",
        "    inp[j],inp[0]=inp[0],inp[j]    \n",
        "    heapify(inp,j,0)\n",
        "  return inp"
      ],
      "execution_count": 32,
      "outputs": []
    },
    {
      "cell_type": "code",
      "metadata": {
        "id": "F-cgse3lHnRt",
        "outputId": "316db953-c6b3-4b70-c0f2-becb0368f8f3",
        "colab": {
          "base_uri": "https://localhost:8080/",
          "height": 35
        }
      },
      "source": [
        "testdata=[4,3,2,10,12,1,5,6]\n",
        "result_heap_sort=heap_sort(testdata)\n",
        "print(result_heap_sort)"
      ],
      "execution_count": 33,
      "outputs": [
        {
          "output_type": "stream",
          "text": [
            "[1, 2, 3, 4, 5, 6, 10, 12]\n"
          ],
          "name": "stdout"
        }
      ]
    },
    {
      "cell_type": "markdown",
      "metadata": {
        "id": "4RiCoATGClZt"
      },
      "source": [
        "4. Merge Sort"
      ]
    },
    {
      "cell_type": "code",
      "metadata": {
        "id": "4MU6MgcsKv1Y"
      },
      "source": [
        "def merge_sort(inp):\n",
        "  n=len(inp)\n",
        "  if n>1:\n",
        "    mid=n//2\n",
        "    left=inp[:mid]\n",
        "    right=inp[mid:]\n",
        "    merge_sort(left)\n",
        "    merge_sort(right)\n",
        "    i=j=k=0\n",
        "    while i<len(left) and j<len(right):\n",
        "      if left[i]<right[j]:\n",
        "        inp[k]=left[i]\n",
        "        i+=1\n",
        "        k+=1\n",
        "      else:\n",
        "        inp[k]=right[j]\n",
        "        j+=1\n",
        "        k+=1\n",
        "    while k<n:\n",
        "      if i<len(left):\n",
        "        inp[k]=left[i]\n",
        "        i+=1\n",
        "        k+=1\n",
        "      if j<len(right):\n",
        "        inp[k]=right[j]\n",
        "        j+=1\n",
        "        k+=1\n",
        "    return inp\n",
        "\n"
      ],
      "execution_count": 34,
      "outputs": []
    },
    {
      "cell_type": "code",
      "metadata": {
        "id": "V5zr3HJWMrhA",
        "outputId": "fac80735-5f13-42ac-f56a-5c47dfa45278",
        "colab": {
          "base_uri": "https://localhost:8080/",
          "height": 35
        }
      },
      "source": [
        "testdata=[4,3,2,10,12,1,5,6]\n",
        "result_merge_sort=merge_sort(testdata)\n",
        "print(result_merge_sort)"
      ],
      "execution_count": 47,
      "outputs": [
        {
          "output_type": "stream",
          "text": [
            "[1, 2, 3, 4, 5, 6, 10, 12]\n"
          ],
          "name": "stdout"
        }
      ]
    },
    {
      "cell_type": "markdown",
      "metadata": {
        "id": "e7Y4hkaRClWN"
      },
      "source": [
        "5. Insertion sort"
      ]
    },
    {
      "cell_type": "code",
      "metadata": {
        "id": "CgIp-aBPM0uZ"
      },
      "source": [
        "def insertion_sort(inp):\n",
        "  for i in range(1,len(inp)):\n",
        "    key=inp[i]\n",
        "    j=i-1\n",
        "    while j>=0 and key<inp[j]:\n",
        "      inp[j+1]=inp[j]\n",
        "      j-=1\n",
        "    inp[j+1]=key\n",
        "  return inp"
      ],
      "execution_count": 82,
      "outputs": []
    },
    {
      "cell_type": "code",
      "metadata": {
        "id": "pXmyd85tOr66",
        "outputId": "6c562ce3-8d91-46de-f46f-99c81fb843cb",
        "colab": {
          "base_uri": "https://localhost:8080/",
          "height": 35
        }
      },
      "source": [
        "testdata=[4,3,2,10,12,1,5,6]\n",
        "result_insertion_sort=insertion_sort(testdata)\n",
        "print(result_insertion_sort)"
      ],
      "execution_count": 83,
      "outputs": [
        {
          "output_type": "stream",
          "text": [
            "[1, 2, 3, 4, 5, 6, 10, 12]\n"
          ],
          "name": "stdout"
        }
      ]
    },
    {
      "cell_type": "markdown",
      "metadata": {
        "id": "bLxOyd7KClP_"
      },
      "source": [
        "6. Quick Sort"
      ]
    },
    {
      "cell_type": "code",
      "metadata": {
        "id": "WFFwblDrO2YD"
      },
      "source": [
        "def partition(inp,low,high):\n",
        "  if low<high:\n",
        "    i=low-1\n",
        "    pivot=inp[high]\n",
        "    for j in range(low,high):\n",
        "      if inp[j]<pivot:\n",
        "        i+=1\n",
        "        inp[i],inp[j]=inp[j],inp[i]\n",
        "    inp[i+1],inp[high]=inp[high],inp[i+1]\n",
        "    return i+1\n",
        "\n",
        "def quick_sort(inp,low,high):\n",
        "  if low<high:\n",
        "    pi=partition(inp,low,high)\n",
        "    quick_sort(inp,0,pi-1)\n",
        "    quick_sort(inp,pi+1,high)\n",
        "  return inp\n"
      ],
      "execution_count": 48,
      "outputs": []
    },
    {
      "cell_type": "code",
      "metadata": {
        "id": "Z6x2qtucQQY8",
        "outputId": "93cfc829-a285-492e-f068-ada86c37fbf4",
        "colab": {
          "base_uri": "https://localhost:8080/",
          "height": 35
        }
      },
      "source": [
        "testdata=[4,3,2,10,12,1,5,6]\n",
        "result_quick_sort=quick_sort(testdata,0,len(testdata)-1)\n",
        "print(result_quick_sort)"
      ],
      "execution_count": 49,
      "outputs": [
        {
          "output_type": "stream",
          "text": [
            "[1, 2, 3, 4, 5, 6, 10, 12]\n"
          ],
          "name": "stdout"
        }
      ]
    },
    {
      "cell_type": "markdown",
      "metadata": {
        "id": "R7EdlgARClHU"
      },
      "source": [
        ""
      ]
    }
  ]
}