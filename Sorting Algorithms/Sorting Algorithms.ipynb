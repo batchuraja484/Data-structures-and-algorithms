{
 "cells": [
  {
   "cell_type": "code",
   "execution_count": 1,
   "metadata": {},
   "outputs": [],
   "source": [
    "inp=[5,3,8,6,7,2]"
   ]
  },
  {
   "cell_type": "code",
   "execution_count": 2,
   "metadata": {},
   "outputs": [
    {
     "name": "stdout",
     "output_type": "stream",
     "text": [
      "[5, 3, 8, 6, 7, 2]\n"
     ]
    }
   ],
   "source": [
    "print(inp)"
   ]
  },
  {
   "cell_type": "markdown",
   "metadata": {},
   "source": [
    "### 1. bubble sort"
   ]
  },
  {
   "cell_type": "code",
   "execution_count": 3,
   "metadata": {},
   "outputs": [],
   "source": [
    "def bubble_sort(ip):\n",
    "    for i in range(0,len(ip)):\n",
    "        for j in range(0,len(ip)-1):\n",
    "            if ip[j]>ip[j+1]:\n",
    "                ip[j],ip[j+1]=ip[j+1],ip[j]\n",
    "    return ip"
   ]
  },
  {
   "cell_type": "code",
   "execution_count": 4,
   "metadata": {},
   "outputs": [
    {
     "name": "stdout",
     "output_type": "stream",
     "text": [
      "[2, 3, 5, 6, 7, 8]\n"
     ]
    }
   ],
   "source": [
    "result_bubble_sort=bubble_sort(inp)\n",
    "print(result_bubble_sort)"
   ]
  },
  {
   "cell_type": "markdown",
   "metadata": {},
   "source": [
    "### 2.Selection Sort"
   ]
  },
  {
   "cell_type": "code",
   "execution_count": 14,
   "metadata": {},
   "outputs": [
    {
     "name": "stdout",
     "output_type": "stream",
     "text": [
      "[5, 3, 8, 6, 7, 2]\n"
     ]
    }
   ],
   "source": [
    "inp=[5,3,8,6,7,2]\n",
    "print(inp)"
   ]
  },
  {
   "cell_type": "code",
   "execution_count": 13,
   "metadata": {},
   "outputs": [],
   "source": [
    "def selection_sort(ip):\n",
    "    for i in range(0,len(ip)):\n",
    "        minindex=i\n",
    "        for j in range(i,len(ip)):\n",
    "            if ip[j]<ip[minindex]:\n",
    "                minindex=j\n",
    "        ip[i],ip[minindex]=ip[minindex],ip[i]\n",
    "    return ip\n",
    "    "
   ]
  },
  {
   "cell_type": "code",
   "execution_count": 15,
   "metadata": {},
   "outputs": [
    {
     "name": "stdout",
     "output_type": "stream",
     "text": [
      "[2, 3, 5, 6, 7, 8]\n"
     ]
    }
   ],
   "source": [
    "result_selection_sort=selection_sort(inp)\n",
    "print(result_selection_sort)"
   ]
  },
  {
   "cell_type": "markdown",
   "metadata": {},
   "source": [
    "### 3. Heap Sort"
   ]
  },
  {
   "cell_type": "code",
   "execution_count": 26,
   "metadata": {},
   "outputs": [
    {
     "name": "stdout",
     "output_type": "stream",
     "text": [
      "[5, 3, 8, 6, 7, 2]\n"
     ]
    }
   ],
   "source": [
    "inp=[5,3,8,6,7,2]\n",
    "print(inp)"
   ]
  },
  {
   "cell_type": "code",
   "execution_count": 33,
   "metadata": {},
   "outputs": [],
   "source": [
    "#build heapify\n",
    "def heapify(arr,n,i):\n",
    "    largest=i\n",
    "    left=2*i+1\n",
    "    right=2*i+2\n",
    "    if left<n and arr[left]>arr[largest]:\n",
    "        largest=left\n",
    "    if right<n and arr[right]>arr[largest]:\n",
    "        largest=right\n",
    "    if largest!=i:\n",
    "        arr[largest],arr[i]=arr[i],arr[largest]\n",
    "        heapify(arr,n,largest)\n",
    "        \n",
    "    \n",
    "#call heapify and remove root element one by one\n",
    "def heapsort(arr):\n",
    "    n=len(arr)\n",
    "    for i in range((n//2-1),-1,-1):\n",
    "        heapify(arr,n,i)\n",
    "    for i in range(n-1,0,-1):\n",
    "        arr[0],arr[i]=arr[i],arr[0]\n",
    "        heapify(arr,i,0)\n",
    "    return arr\n"
   ]
  },
  {
   "cell_type": "code",
   "execution_count": 34,
   "metadata": {},
   "outputs": [
    {
     "name": "stdout",
     "output_type": "stream",
     "text": [
      "[3, 10, 23, 32, 34, 76]\n"
     ]
    }
   ],
   "source": [
    "#call the heap and remove element\n",
    "inp=[10,3,76,34,23,32]\n",
    "result_heap_sort=heapsort(inp)\n",
    "print(result_heap_sort)"
   ]
  },
  {
   "cell_type": "code",
   "execution_count": null,
   "metadata": {},
   "outputs": [],
   "source": []
  },
  {
   "cell_type": "code",
   "execution_count": null,
   "metadata": {},
   "outputs": [],
   "source": []
  },
  {
   "cell_type": "code",
   "execution_count": null,
   "metadata": {},
   "outputs": [],
   "source": []
  },
  {
   "cell_type": "code",
   "execution_count": null,
   "metadata": {},
   "outputs": [],
   "source": []
  }
 ],
 "metadata": {
  "kernelspec": {
   "display_name": "Python 3",
   "language": "python",
   "name": "python3"
  },
  "language_info": {
   "codemirror_mode": {
    "name": "ipython",
    "version": 3
   },
   "file_extension": ".py",
   "mimetype": "text/x-python",
   "name": "python",
   "nbconvert_exporter": "python",
   "pygments_lexer": "ipython3",
   "version": "3.8.5"
  }
 },
 "nbformat": 4,
 "nbformat_minor": 4
}
